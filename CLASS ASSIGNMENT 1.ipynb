{
 "cells": [
  {
   "cell_type": "markdown",
   "id": "9d2839c3",
   "metadata": {},
   "source": [
    "# Class work 1"
   ]
  },
  {
   "cell_type": "code",
   "execution_count": 1,
   "id": "fd55eabc",
   "metadata": {},
   "outputs": [
    {
     "name": "stdout",
     "output_type": "stream",
     "text": [
      "Enter your salary: 60000\n",
      "Enter your years of service: 6\n",
      "Congratulations! You qualify for a bonus of $3000.00.\n"
     ]
    }
   ],
   "source": [
    "# Get user input for salary and years of service\n",
    "salary = float(input(\"Enter your salary: \"))\n",
    "# Get user input for years of service\n",
    "years_of_service = int(input(\"Enter your years of service: \"))\n",
    "# Check if the employee has more than 5 years of service\n",
    "if years_of_service > 5:\n",
    "    # Calculate the bonus amount (5% of salary)\n",
    "    bonus_amount = 0.05 * salary\n",
    "    print(f\"Congratulations! You qualify for a bonus of ${bonus_amount:.2f}.\")\n",
    "else:\n",
    "    print(\"Sorry, you don't qualify for a bonus.\")"
   ]
  },
  {
   "cell_type": "code",
   "execution_count": null,
   "id": "307cbc6d",
   "metadata": {},
   "outputs": [],
   "source": [
    "# Class work 2"
   ]
  },
  {
   "cell_type": "code",
   "execution_count": 2,
   "id": "61b70b99",
   "metadata": {},
   "outputs": [
    {
     "name": "stdout",
     "output_type": "stream",
     "text": [
      "Enter score (out of 100): 60\n",
      "C\n"
     ]
    }
   ],
   "source": [
    "# Get user input for marks\n",
    "score= int(input(\"Enter score (out of 100): \"))\n",
    "# Define Grading\n",
    "if score <= 25 :\n",
    "    print (\"F\")\n",
    "elif score >= 25 and score <= 45:\n",
    "    print (\"E\")\n",
    "elif score > 45 and score <= 50 :\n",
    "    print (\"D\")\n",
    "elif score > 50 and score <= 60 :\n",
    "    print (\"C\")\n",
    "elif score > 60 and score <= 80 :\n",
    "    print (\"B\")\n",
    "elif score > 80 and score <=100 :\n",
    "    print (\"A\")\n",
    "else:\n",
    "    print(\"score is out of rang\")"
   ]
  },
  {
   "cell_type": "code",
   "execution_count": null,
   "id": "bd8bb770",
   "metadata": {},
   "outputs": [],
   "source": [
    "#  class work 3"
   ]
  },
  {
   "cell_type": "code",
   "execution_count": 9,
   "id": "35f5f985",
   "metadata": {},
   "outputs": [
    {
     "name": "stdout",
     "output_type": "stream",
     "text": [
      "What quantity of units are you buying: 250\n",
      "Rs 1000.0\n"
     ]
    }
   ],
   "source": [
    "# Define default Charge\n",
    "charge = 0\n",
    "# Get User imput on Units\n",
    "units = float(input(\"What quantity of units are you buying: \"))\n",
    "# Define Unit Price \n",
    "if units <=100:\n",
    "    print(\"no charge\")\n",
    "elif units > 100 and units <=200:\n",
    "    charge = (units - 100) * 5\n",
    "    print(f\"Rs {charge}\")\n",
    "else : \n",
    "    charge = (100 * 5) + ((units - 200)*10)\n",
    "    print(f\"Rs {charge}\")"
   ]
  }
 ],
 "metadata": {
  "kernelspec": {
   "display_name": "Python 3 (ipykernel)",
   "language": "python",
   "name": "python3"
  },
  "language_info": {
   "codemirror_mode": {
    "name": "ipython",
    "version": 3
   },
   "file_extension": ".py",
   "mimetype": "text/x-python",
   "name": "python",
   "nbconvert_exporter": "python",
   "pygments_lexer": "ipython3",
   "version": "3.11.5"
  }
 },
 "nbformat": 4,
 "nbformat_minor": 5
}
